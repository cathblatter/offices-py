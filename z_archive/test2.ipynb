{
 "cells": [
  {
   "cell_type": "code",
   "execution_count": 7,
   "metadata": {},
   "outputs": [
    {
     "name": "stdout",
     "output_type": "stream",
     "text": [
      "2023-04-04\n"
     ]
    }
   ],
   "source": [
    "import pandas as pd\n",
    "\n",
    "# sample df\n",
    "df = pd.DataFrame({'id': [1, 2, 3],\n",
    "                   'name': ['A', 'B', 'C'],\n",
    "                   'roomno': [115, 115, 117],\n",
    "                   'date_start': pd.to_datetime(['2023-04-04 08:00:00', '2023-04-04 12:00:00', '2023-04-04 08:00:00']),\n",
    "                   'date_end': pd.to_datetime(['2023-04-04 14:00:00', '2023-04-04 18:00:00', '2023-04-04 14:00:00'])})\n",
    "\n",
    "room_cap = pd.DataFrame({'roomno': [115, 117],\n",
    "                         'cap': [3, 1]})\n",
    "\n",
    "# reformat to longer\n",
    "df_long = (df\n",
    "           .melt(id_vars=['id', 'name', 'roomno'],\n",
    "                 value_vars=['date_start', 'date_end'], \n",
    "                 var_name='what', \n",
    "                 value_name='time')\n",
    "            .groupby('id'))\n",
    "\n",
    "# df_long = df_long.groupby('id')\n",
    "\n",
    "# define function to create date range for each group\n",
    "def create_date_range(group):\n",
    "    start = group['time'].min()\n",
    "    end = group['time'].max()\n",
    "    return pd.date_range(start=start, end=end, freq='H')\n",
    "\n",
    "# apply function to each group and concatenate results into a single DataFrame\n",
    "hourly_df = pd.concat([pd.DataFrame({'id': id,\n",
    "                                     'time': create_date_range(group)}) for id, group in df_long])\n",
    "\n",
    "# # merge base information back\n",
    "hourly_df = pd.merge(hourly_df,\n",
    "                     df[[\"id\", \"name\", \"roomno\"]],\n",
    "                     on='id', how='left')\n",
    "\n",
    "# add count per hour and calculate occupancy rate\n",
    "hourly_occ = (hourly_df\n",
    "             .groupby(['roomno', 'time'])\n",
    "             .size()\n",
    "             .reset_index(name='n')\n",
    "             .merge(room_cap, on='roomno')\n",
    "             .assign(occ_rate=lambda x: x['n'] / x['cap']))\n",
    "\n",
    "# print(hourly_occ)\n",
    "\n",
    "print(hourly_occ['time'].dt.date.max())\n",
    "\n",
    "xx = hourly_occ['time'].dt.date.max()\n",
    "\n",
    "print(hourly_occ[(hourly_occ['time'].dt.date == xx)])\n"
   ]
  }
 ],
 "metadata": {
  "kernelspec": {
   "display_name": "offices-py-ei01VrcE",
   "language": "python",
   "name": "python3"
  },
  "language_info": {
   "codemirror_mode": {
    "name": "ipython",
    "version": 3
   },
   "file_extension": ".py",
   "mimetype": "text/x-python",
   "name": "python",
   "nbconvert_exporter": "python",
   "pygments_lexer": "ipython3",
   "version": "3.10.10"
  },
  "orig_nbformat": 4
 },
 "nbformat": 4,
 "nbformat_minor": 2
}
